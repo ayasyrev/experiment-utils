{
 "cells": [
  {
   "cell_type": "code",
   "execution_count": null,
   "metadata": {},
   "outputs": [],
   "source": [
    "# default_exp data_imagenette"
   ]
  },
  {
   "cell_type": "markdown",
   "metadata": {},
   "source": [
    "# data_imagenette\n",
    "> Get imagenette databatch."
   ]
  },
  {
   "cell_type": "code",
   "execution_count": null,
   "metadata": {},
   "outputs": [],
   "source": [
    "# export\n",
    "# hide\n",
    "from fastai.basics import *\n",
    "from fastai.vision import *"
   ]
  },
  {
   "cell_type": "code",
   "execution_count": null,
   "metadata": {},
   "outputs": [],
   "source": [
    "# export\n",
    "# taken from fastai exampes\n",
    "def get_data(size=128, woof:int=1, bs=64, augm = 'min', workers=None, v2=True, **kwargs):\n",
    "\n",
    "    path = URLs.IMAGEWOOF     if woof else URLs.IMAGENETTE\n",
    "    path = untar_data(path)\n",
    "    \n",
    "    tfms_list = { 'min': ([flip_lr(p=0.5)], []),\n",
    "                  'def': (get_transforms()[0], []),\n",
    "                  'no': ([], [])\n",
    "                }\n",
    "    tfms = tfms_list[augm]\n",
    "    databunch = (ImageList.from_folder(path).split_by_folder(valid='val')\n",
    "            .label_from_folder().transform(tfms, size=size)\n",
    "            .databunch(bs=bs)) # , num_workers=workers)\n",
    "    \n",
    "    data = databunch.presize(size, scale=(0.35,1)).normalize(imagenet_stats)\n",
    "    return data"
   ]
  },
  {
   "cell_type": "code",
   "execution_count": null,
   "metadata": {},
   "outputs": [],
   "source": [
    "data = get_data()"
   ]
  },
  {
   "cell_type": "code",
   "execution_count": null,
   "metadata": {},
   "outputs": [
    {
     "data": {
      "text/plain": [
       "PosixPath('/root/.fastai/data/imagewoof2')"
      ]
     },
     "execution_count": null,
     "metadata": {},
     "output_type": "execute_result"
    }
   ],
   "source": [
    "data.path"
   ]
  },
  {
   "cell_type": "code",
   "execution_count": null,
   "metadata": {},
   "outputs": [],
   "source": []
  }
 ],
 "metadata": {
  "kernelspec": {
   "display_name": "Python 3",
   "language": "python",
   "name": "python3"
  }
 },
 "nbformat": 4,
 "nbformat_minor": 2
}
