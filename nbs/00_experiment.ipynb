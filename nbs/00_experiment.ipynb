{
 "cells": [
  {
   "cell_type": "code",
   "execution_count": null,
   "metadata": {},
   "outputs": [],
   "source": [
    "# default_exp experiment"
   ]
  },
  {
   "cell_type": "markdown",
   "metadata": {},
   "source": [
    "# experiment\n",
    "> Helper utils for track and manage Dl experimets with pytorch and fastai."
   ]
  },
  {
   "cell_type": "code",
   "execution_count": null,
   "metadata": {},
   "outputs": [],
   "source": [
    "# export\n",
    "# hide\n",
    "from fastai.basics import *\n",
    "from experiment_utils.data_imagenette import *\n",
    "from torchvision.models import *\n",
    "from experiment_utils.utils import *\n",
    "from experiment_utils.ranger import *"
   ]
  },
  {
   "cell_type": "code",
   "execution_count": null,
   "metadata": {},
   "outputs": [],
   "source": [
    "#hide\n",
    "# from nbdev.showdoc import *"
   ]
  },
  {
   "cell_type": "markdown",
   "metadata": {},
   "source": [
    "# Optimiser dict"
   ]
  },
  {
   "cell_type": "code",
   "execution_count": null,
   "metadata": {},
   "outputs": [],
   "source": [
    "# export\n",
    "# Dictionary defaults optimizers\n",
    "opt_dict = {'adam': {'func': optim.Adam,\n",
    "                     'params': {'betas': (0.95, 0.99), 'eps': 1e-6}},\n",
    "            'ranger': {'func': Ranger,\n",
    "                       'params': {'betas': (0.95, 0.99), 'eps': 1e-6}}}"
   ]
  },
  {
   "cell_type": "markdown",
   "metadata": {},
   "source": [
    "# Parameters"
   ]
  },
  {
   "cell_type": "code",
   "execution_count": null,
   "metadata": {},
   "outputs": [],
   "source": [
    "# export\n",
    "# data default parameters\n",
    "data_params = {  'size': 128,\n",
    "                 'fullsize': False,\n",
    "                 'woof': 1,\n",
    "                 'bs': 64,\n",
    "                 'augm': 'min',\n",
    "                 'workers': None,}"
   ]
  },
  {
   "cell_type": "code",
   "execution_count": null,
   "metadata": {},
   "outputs": [],
   "source": [
    "# export\n",
    "class ExperimentParameters:\n",
    "    def __init__(self, data=data_params):\n",
    "        self.exp_name:  str = 'noname'\n",
    "        self.pipeline = [train]\n",
    "        self.data = data\n",
    "    # Learner part\n",
    "        self.model     = partial(resnet18, num_classes=10)\n",
    "#         self.model     = {'name': 'resnet50', \n",
    "#                           'params': {'num_classes':10}}\n",
    "        self.loss_func = LabelSmoothingCrossEntropy\n",
    "        self.metrics   = [accuracy]\n",
    "        self.wd      = 1e-2\n",
    "        self.bn_wd   = False\n",
    "        self.true_wd = True\n",
    "        self.mixup = 0.\n",
    "    # train - FOC\n",
    "        self.epochs     = 5\n",
    "        self.lr         = 0.01\n",
    "        self.div_factor = 10\n",
    "        self.moms       = (0.95, 0.85)\n",
    "        self.pct_start  = 0.3\n",
    "        self.final_div  = None\n",
    "    # optimizer\n",
    "        self.opt_name = 'adam'\n",
    "        self.set_opt(self.opt_name)\n",
    "    # sched\n",
    "        self.fc_start_pct = 0.72\n",
    "        self.fc_lr_final_div = 1e2\n",
    "        self.shift=0.1\n",
    "\n",
    "    def set_opt(self, opt_name):\n",
    "        self.opt_name = opt_name\n",
    "        self.opt_func = opt_dict[self.opt_name]['func'] #, **opt_dict[self.opt_name]['params'])\n",
    "#         self.opt_params = param_parser(self.opt_func)\n",
    "        self.opt_params = opt_dict[self.opt_name]['params']\n",
    "        self.opt_def_params = param_parser(self.opt_func)\n",
    "    \n",
    "        #         for k,v in self.data.items():\n",
    "        #             setattr(self, k, v)\n",
    "    \n",
    "    def get_opt(self):\n",
    "        return partial(self.opt_func, **self.opt_params)\n",
    "        \n",
    "    opt = property(get_opt, set_opt)\n",
    "    \n",
    "    \n",
    "    def __repr__(self):\n",
    "        return f\"params: exp:{self.exp_name}\""
   ]
  },
  {
   "cell_type": "code",
   "execution_count": null,
   "metadata": {},
   "outputs": [],
   "source": [
    "# export\n",
    "p = ExperimentParameters()"
   ]
  },
  {
   "cell_type": "code",
   "execution_count": null,
   "metadata": {},
   "outputs": [
    {
     "data": {
      "text/plain": [
       "params: exp:noname"
      ]
     },
     "execution_count": null,
     "metadata": {},
     "output_type": "execute_result"
    }
   ],
   "source": [
    "p"
   ]
  },
  {
   "cell_type": "code",
   "execution_count": null,
   "metadata": {},
   "outputs": [
    {
     "data": {
      "text/plain": [
       "functools.partial(<class 'torch.optim.adam.Adam'>, betas=(0.95, 0.99), eps=1e-06)"
      ]
     },
     "execution_count": null,
     "metadata": {},
     "output_type": "execute_result"
    }
   ],
   "source": [
    "p.opt"
   ]
  },
  {
   "cell_type": "code",
   "execution_count": null,
   "metadata": {},
   "outputs": [
    {
     "data": {
      "text/plain": [
       "{'betas': (0.95, 0.99), 'eps': 1e-06}"
      ]
     },
     "execution_count": null,
     "metadata": {},
     "output_type": "execute_result"
    }
   ],
   "source": [
    "p.opt_params"
   ]
  },
  {
   "cell_type": "code",
   "execution_count": null,
   "metadata": {},
   "outputs": [
    {
     "data": {
      "text/plain": [
       "{'lr': 0.001,\n",
       " 'betas': (0.9, 0.999),\n",
       " 'eps': 1e-08,\n",
       " 'weight_decay': 0,\n",
       " 'amsgrad': False}"
      ]
     },
     "execution_count": null,
     "metadata": {},
     "output_type": "execute_result"
    }
   ],
   "source": [
    "p.opt_def_params"
   ]
  },
  {
   "cell_type": "code",
   "execution_count": null,
   "metadata": {},
   "outputs": [
    {
     "data": {
      "text/plain": [
       "'noname'"
      ]
     },
     "execution_count": null,
     "metadata": {},
     "output_type": "execute_result"
    }
   ],
   "source": [
    "p.exp_name"
   ]
  },
  {
   "cell_type": "code",
   "execution_count": null,
   "metadata": {},
   "outputs": [
    {
     "data": {
      "text/plain": [
       "functools.partial(<class 'torch.optim.adam.Adam'>, lr=0.001, betas=(0.9, 0.999), eps=1e-08, weight_decay=0, amsgrad=False)"
      ]
     },
     "execution_count": null,
     "metadata": {},
     "output_type": "execute_result"
    }
   ],
   "source": [
    "# hide\n",
    "p.opt_name\n",
    "p.opt"
   ]
  },
  {
   "cell_type": "code",
   "execution_count": null,
   "metadata": {},
   "outputs": [
    {
     "data": {
      "text/plain": [
       "{'lr': 0.001,\n",
       " 'betas': (0.9, 0.999),\n",
       " 'eps': 1e-08,\n",
       " 'weight_decay': 0,\n",
       " 'amsgrad': False}"
      ]
     },
     "execution_count": null,
     "metadata": {},
     "output_type": "execute_result"
    }
   ],
   "source": [
    "p.opt_params"
   ]
  },
  {
   "cell_type": "code",
   "execution_count": null,
   "metadata": {},
   "outputs": [
    {
     "data": {
      "text/plain": [
       "{'size': 128,\n",
       " 'fullsize': False,\n",
       " 'woof': 1,\n",
       " 'bs': 64,\n",
       " 'augm': 'min',\n",
       " 'workers': None}"
      ]
     },
     "execution_count": null,
     "metadata": {},
     "output_type": "execute_result"
    }
   ],
   "source": [
    "p.data"
   ]
  },
  {
   "cell_type": "code",
   "execution_count": null,
   "metadata": {},
   "outputs": [
    {
     "data": {
      "text/plain": [
       "(functools.partial(<class 'torch.optim.adam.Adam'>, lr=0.001, betas=(0.9, 0.999), eps=1e-08, weight_decay=0, amsgrad=False),\n",
       " 'adam',\n",
       " {'lr': 0.001,\n",
       "  'betas': (0.9, 0.999),\n",
       "  'eps': 1e-08,\n",
       "  'weight_decay': 0,\n",
       "  'amsgrad': False})"
      ]
     },
     "execution_count": null,
     "metadata": {},
     "output_type": "execute_result"
    }
   ],
   "source": [
    "# hide\n",
    "p.opt, p.opt_name, p.opt_params"
   ]
  },
  {
   "cell_type": "code",
   "execution_count": null,
   "metadata": {},
   "outputs": [],
   "source": [
    "p.opt = 'ranger'"
   ]
  },
  {
   "cell_type": "code",
   "execution_count": null,
   "metadata": {},
   "outputs": [
    {
     "data": {
      "text/plain": [
       "(functools.partial(<class 'experiment_utils.ranger.Ranger'>, lr=0.001, alpha=0.5, k=6, N_sma_threshhold=5, betas=(0.95, 0.999), eps=1e-05, weight_decay=0),\n",
       " 'ranger',\n",
       " {'lr': 0.001,\n",
       "  'alpha': 0.5,\n",
       "  'k': 6,\n",
       "  'N_sma_threshhold': 5,\n",
       "  'betas': (0.95, 0.999),\n",
       "  'eps': 1e-05,\n",
       "  'weight_decay': 0})"
      ]
     },
     "execution_count": null,
     "metadata": {},
     "output_type": "execute_result"
    }
   ],
   "source": [
    "p.opt, p.opt_name, p.opt_params"
   ]
  },
  {
   "cell_type": "markdown",
   "metadata": {},
   "source": [
    "# Learner"
   ]
  },
  {
   "cell_type": "code",
   "execution_count": null,
   "metadata": {},
   "outputs": [],
   "source": [
    "# export\n",
    "def get_learner(p=p):\n",
    "    data = get_data(**p.data)\n",
    "    learn = Learner(data, p.model(),  \n",
    "                opt_func=p.opt,\n",
    "                metrics=p.metrics, \n",
    "                wd=p.wd, bn_wd=p.bn_wd, true_wd=p.true_wd,\n",
    "                loss_func=p.loss_func())\n",
    "    learn.p = p\n",
    "    if learn.p.mixup: learn = learn.mixup(alpha=learn.p.mixup)\n",
    "\n",
    "    return learn"
   ]
  },
  {
   "cell_type": "code",
   "execution_count": null,
   "metadata": {},
   "outputs": [],
   "source": [
    "learn = get_learner()"
   ]
  },
  {
   "cell_type": "code",
   "execution_count": null,
   "metadata": {},
   "outputs": [
    {
     "data": {
      "text/plain": [
       "{'size': 128,\n",
       " 'fullsize': False,\n",
       " 'woof': 1,\n",
       " 'bs': 64,\n",
       " 'augm': 'min',\n",
       " 'workers': None}"
      ]
     },
     "execution_count": null,
     "metadata": {},
     "output_type": "execute_result"
    }
   ],
   "source": [
    "learn.p.data"
   ]
  },
  {
   "cell_type": "code",
   "execution_count": null,
   "metadata": {},
   "outputs": [
    {
     "data": {
      "text/plain": [
       "PosixPath('/root/.fastai/data/imagewoof2')"
      ]
     },
     "execution_count": null,
     "metadata": {},
     "output_type": "execute_result"
    }
   ],
   "source": [
    "# hide\n",
    "learn.data.path"
   ]
  },
  {
   "cell_type": "markdown",
   "metadata": {},
   "source": [
    "# Experiment"
   ]
  },
  {
   "cell_type": "code",
   "execution_count": null,
   "metadata": {},
   "outputs": [],
   "source": [
    "# export\n",
    "class Experiment:\n",
    "    def __init__(self, p=p):\n",
    "        self.p = p\n",
    "#         self.p.pipeline = [train]\n",
    "\n",
    "    def get_learner(self):\n",
    "        self.l = get_learner(self.p)    \n",
    "     \n",
    "    @property \n",
    "    def learn(self): \n",
    "        \"Learner, same as l\" \n",
    "        return self.l\n",
    "       \n",
    "    def lr_f(self, repeat_times=1, new_learner=True):\n",
    "        for i in range(repeat_times):\n",
    "            if new_learner or not hasattr(self, 'l'): self.get_learner()\n",
    "            print(f\"run {i+1} of {repeat_times}\")\n",
    "            lr_f(self.l)\n",
    "            \n",
    "    def train(self, repeat_times=1, new_learner=False):\n",
    "        self.train_res = []\n",
    "        self.train_rec = []\n",
    "        for i in range(repeat_times):\n",
    "            print(f\"repeat {i+1} of {repeat_times}\")\n",
    "            if new_learner or not hasattr(self, 'l'): self.get_learner()\n",
    "            for f in self.p.pipeline:\n",
    "                f(self.l)\n",
    "#             self.train_rec.append(self.l.recorder.get_state())\n",
    "            self.train_res.append(e.l.recorder.metrics[-1][0].item()) # only first metric!\n",
    "    \n",
    "    def plot(self, plot_all=True):\n",
    "        self.l.plot(plot_all)\n",
    "    \n",
    "    def __call__(self,repeat_times=1, new_learner=True):\n",
    "        self.lr_list = listify(self.p.lr)\n",
    "        num = len(self.lr_list)\n",
    "        self.result = {}\n",
    "        self.result_repr = {}\n",
    "        for n, lr in enumerate(self.lr_list):\n",
    "            self.p.lr = lr\n",
    "            print(f\"run {n+1} of {num}, lr {lr}\")\n",
    "            self.train(repeat_times, new_learner)\n",
    "            self.result[str(lr)] = self.train_res\n",
    "            res_repr = self.get_res_repr(lr)\n",
    "            print(res_repr)\n",
    "            print(20*'-')\n",
    "            self.result_repr[str(lr)] = res_repr\n",
    "        self.p.lr = self.lr_list\n",
    "    \n",
    "    def get_res_repr(self, lr):\n",
    "        res_repr = f\"{lr}: \"\n",
    "        if len(self.train_res)>1:\n",
    "            arr = np.array(self.train_res)\n",
    "            res_repr += f\"mean {arr.mean():0.4f} std {arr.std():0.4f} -- \"\n",
    "        for i in self.train_res:\n",
    "            res_repr += f\"{i:0.4f}, \"\n",
    "        return res_repr\n",
    "    \n",
    "    def print_results(self):\n",
    "        for i in self.result_repr:\n",
    "            print(self.result_repr[i])\n",
    "\n",
    "            \n",
    "e = Experiment()"
   ]
  },
  {
   "cell_type": "code",
   "execution_count": null,
   "metadata": {},
   "outputs": [],
   "source": [
    "# hide\n",
    "# from fastcore.foundation import *"
   ]
  },
  {
   "cell_type": "code",
   "execution_count": null,
   "metadata": {},
   "outputs": [],
   "source": [
    "# hide\n",
    "# @patch_to(Experiment)\n",
    "# def tst_f(Experiment):\n",
    "#     print('test test')"
   ]
  },
  {
   "cell_type": "code",
   "execution_count": null,
   "metadata": {},
   "outputs": [],
   "source": [
    "# hide\n",
    "# e.tst_f()"
   ]
  },
  {
   "cell_type": "code",
   "execution_count": null,
   "metadata": {},
   "outputs": [],
   "source": [
    "# hide \n",
    "# p.pipeline = [partial(train, show_graph=True), partial(plot, plot_all=True)]"
   ]
  },
  {
   "cell_type": "code",
   "execution_count": null,
   "metadata": {},
   "outputs": [
    {
     "data": {
      "text/plain": [
       "[<function experiment_utils.utils.train(learn, show_graph=False)>]"
      ]
     },
     "execution_count": null,
     "metadata": {},
     "output_type": "execute_result"
    }
   ],
   "source": [
    "# hide\n",
    "p.pipeline"
   ]
  },
  {
   "cell_type": "code",
   "execution_count": null,
   "metadata": {},
   "outputs": [
    {
     "data": {
      "text/plain": [
       "'noname'"
      ]
     },
     "execution_count": null,
     "metadata": {},
     "output_type": "execute_result"
    }
   ],
   "source": [
    "#hide\n",
    "e.p.exp_name"
   ]
  },
  {
   "cell_type": "code",
   "execution_count": null,
   "metadata": {},
   "outputs": [],
   "source": [
    "# hide\n",
    "p.lr = [0.001]\n",
    "p.epochs = 1\n",
    "p.pipelineline = [train_fc, plot]"
   ]
  },
  {
   "cell_type": "code",
   "execution_count": null,
   "metadata": {},
   "outputs": [
    {
     "name": "stdout",
     "output_type": "stream",
     "text": [
      "run 1 of 1, lr 0.001\n",
      "repeat 1 of 1\n",
      "epochs: 1, lr: 0.0010, opt - ranger\n"
     ]
    },
    {
     "data": {
      "text/html": [
       "<table border=\"1\" class=\"dataframe\">\n",
       "  <thead>\n",
       "    <tr style=\"text-align: left;\">\n",
       "      <th>epoch</th>\n",
       "      <th>train_loss</th>\n",
       "      <th>valid_loss</th>\n",
       "      <th>accuracy</th>\n",
       "      <th>time</th>\n",
       "    </tr>\n",
       "  </thead>\n",
       "  <tbody>\n",
       "    <tr>\n",
       "      <td>0</td>\n",
       "      <td>2.117627</td>\n",
       "      <td>2.031286</td>\n",
       "      <td>0.292695</td>\n",
       "      <td>00:31</td>\n",
       "    </tr>\n",
       "  </tbody>\n",
       "</table>"
      ],
      "text/plain": [
       "<IPython.core.display.HTML object>"
      ]
     },
     "metadata": {},
     "output_type": "display_data"
    },
    {
     "name": "stdout",
     "output_type": "stream",
     "text": [
      "0.001: 0.2927, \n",
      "--------------------\n"
     ]
    }
   ],
   "source": [
    "# hide\n",
    "e()"
   ]
  },
  {
   "cell_type": "code",
   "execution_count": null,
   "metadata": {},
   "outputs": [
    {
     "name": "stdout",
     "output_type": "stream",
     "text": [
      "0.001: 0.2927, \n"
     ]
    }
   ],
   "source": [
    "e.print_results()"
   ]
  },
  {
   "cell_type": "code",
   "execution_count": null,
   "metadata": {},
   "outputs": [
    {
     "data": {
      "image/png": "[encoded data removed]",
      "text/plain": [
       "<Figure size 432x288 with 1 Axes>"
      ]
     },
     "metadata": {
      "needs_background": "light"
     },
     "output_type": "display_data"
    },
    {
     "data": {
      "image/png": "[encoded data removed]",
      "text/plain": [
       "<Figure size 432x288 with 1 Axes>"
      ]
     },
     "metadata": {
      "needs_background": "light"
     },
     "output_type": "display_data"
    },
    {
     "data": {
      "image/png": "[encoded data removed]",
      "text/plain": [
       "<Figure size 432x288 with 1 Axes>"
      ]
     },
     "metadata": {
      "needs_background": "light"
     },
     "output_type": "display_data"
    },
    {
     "data": {
      "image/png": "[encoded data removed]",
      "text/plain": [
       "<Figure size 864x288 with 2 Axes>"
      ]
     },
     "metadata": {
      "needs_background": "light"
     },
     "output_type": "display_data"
    }
   ],
   "source": [
    "e.plot()"
   ]
  },
  {
   "cell_type": "code",
   "execution_count": null,
   "metadata": {},
   "outputs": [],
   "source": [
    "# hide\n",
    "p.pipelineline = [train_fc, plot]"
   ]
  },
  {
   "cell_type": "code",
   "execution_count": null,
   "metadata": {},
   "outputs": [
    {
     "name": "stdout",
     "output_type": "stream",
     "text": [
      "run 1 of 2, lr 0.001\n",
      "repeat 1 of 2\n",
      "epochs: 1, lr: 0.0010, opt - ranger\n"
     ]
    },
    {
     "data": {
      "text/html": [
       "<table border=\"1\" class=\"dataframe\">\n",
       "  <thead>\n",
       "    <tr style=\"text-align: left;\">\n",
       "      <th>epoch</th>\n",
       "      <th>train_loss</th>\n",
       "      <th>valid_loss</th>\n",
       "      <th>accuracy</th>\n",
       "      <th>time</th>\n",
       "    </tr>\n",
       "  </thead>\n",
       "  <tbody>\n",
       "    <tr>\n",
       "      <td>0</td>\n",
       "      <td>2.112166</td>\n",
       "      <td>2.022721</td>\n",
       "      <td>0.294477</td>\n",
       "      <td>00:31</td>\n",
       "    </tr>\n",
       "  </tbody>\n",
       "</table>"
      ],
      "text/plain": [
       "<IPython.core.display.HTML object>"
      ]
     },
     "metadata": {},
     "output_type": "display_data"
    },
    {
     "name": "stdout",
     "output_type": "stream",
     "text": [
      "repeat 2 of 2\n",
      "epochs: 1, lr: 0.0010, opt - ranger\n"
     ]
    },
    {
     "data": {
      "text/html": [
       "<table border=\"1\" class=\"dataframe\">\n",
       "  <thead>\n",
       "    <tr style=\"text-align: left;\">\n",
       "      <th>epoch</th>\n",
       "      <th>train_loss</th>\n",
       "      <th>valid_loss</th>\n",
       "      <th>accuracy</th>\n",
       "      <th>time</th>\n",
       "    </tr>\n",
       "  </thead>\n",
       "  <tbody>\n",
       "    <tr>\n",
       "      <td>0</td>\n",
       "      <td>2.111911</td>\n",
       "      <td>2.025553</td>\n",
       "      <td>0.285060</td>\n",
       "      <td>00:31</td>\n",
       "    </tr>\n",
       "  </tbody>\n",
       "</table>"
      ],
      "text/plain": [
       "<IPython.core.display.HTML object>"
      ]
     },
     "metadata": {},
     "output_type": "display_data"
    },
    {
     "name": "stdout",
     "output_type": "stream",
     "text": [
      "0.001: mean 0.2898 std 0.0047 -- 0.2945, 0.2851, \n",
      "--------------------\n",
      "run 2 of 2, lr 0.002\n",
      "repeat 1 of 2\n",
      "epochs: 1, lr: 0.0020, opt - ranger\n"
     ]
    },
    {
     "data": {
      "text/html": [
       "<table border=\"1\" class=\"dataframe\">\n",
       "  <thead>\n",
       "    <tr style=\"text-align: left;\">\n",
       "      <th>epoch</th>\n",
       "      <th>train_loss</th>\n",
       "      <th>valid_loss</th>\n",
       "      <th>accuracy</th>\n",
       "      <th>time</th>\n",
       "    </tr>\n",
       "  </thead>\n",
       "  <tbody>\n",
       "    <tr>\n",
       "      <td>0</td>\n",
       "      <td>2.081068</td>\n",
       "      <td>1.985271</td>\n",
       "      <td>0.320692</td>\n",
       "      <td>00:31</td>\n",
       "    </tr>\n",
       "  </tbody>\n",
       "</table>"
      ],
      "text/plain": [
       "<IPython.core.display.HTML object>"
      ]
     },
     "metadata": {},
     "output_type": "display_data"
    },
    {
     "name": "stdout",
     "output_type": "stream",
     "text": [
      "repeat 2 of 2\n",
      "epochs: 1, lr: 0.0020, opt - ranger\n"
     ]
    },
    {
     "data": {
      "text/html": [
       "<table border=\"1\" class=\"dataframe\">\n",
       "  <thead>\n",
       "    <tr style=\"text-align: left;\">\n",
       "      <th>epoch</th>\n",
       "      <th>train_loss</th>\n",
       "      <th>valid_loss</th>\n",
       "      <th>accuracy</th>\n",
       "      <th>time</th>\n",
       "    </tr>\n",
       "  </thead>\n",
       "  <tbody>\n",
       "    <tr>\n",
       "      <td>0</td>\n",
       "      <td>2.071846</td>\n",
       "      <td>1.971292</td>\n",
       "      <td>0.327055</td>\n",
       "      <td>00:31</td>\n",
       "    </tr>\n",
       "  </tbody>\n",
       "</table>"
      ],
      "text/plain": [
       "<IPython.core.display.HTML object>"
      ]
     },
     "metadata": {},
     "output_type": "display_data"
    },
    {
     "name": "stdout",
     "output_type": "stream",
     "text": [
      "0.002: mean 0.3239 std 0.0032 -- 0.3207, 0.3271, \n",
      "--------------------\n"
     ]
    }
   ],
   "source": [
    "# hide\n",
    "# p.lr = [0.001, 0.002]\n",
    "# e(2)"
   ]
  },
  {
   "cell_type": "code",
   "execution_count": null,
   "metadata": {},
   "outputs": [],
   "source": []
  },
  {
   "cell_type": "markdown",
   "metadata": {},
   "source": [
    "# end\n",
    "by A. Yasyrev"
   ]
  },
  {
   "cell_type": "code",
   "execution_count": null,
   "metadata": {},
   "outputs": [
    {
     "name": "stdout",
     "output_type": "stream",
     "text": [
      "Converted 00_experiment.ipynb.\n",
      "Converted 01_utils.ipynb.\n",
      "Converted 02_consistency.ipynb.\n",
      "Converted 03_data_imagenette.ipynb.\n",
      "Converted 50_ranger.ipynb.\n",
      "Converted index.ipynb.\n"
     ]
    }
   ],
   "source": [
    "# hide\n",
    "from nbdev.export import *\n",
    "notebook2script()"
   ]
  },
  {
   "cell_type": "code",
   "execution_count": null,
   "metadata": {},
   "outputs": [],
   "source": []
  }
 ],
 "metadata": {
  "kernelspec": {
   "display_name": "Python 3",
   "language": "python",
   "name": "python3"
  }
 },
 "nbformat": 4,
 "nbformat_minor": 2
}
